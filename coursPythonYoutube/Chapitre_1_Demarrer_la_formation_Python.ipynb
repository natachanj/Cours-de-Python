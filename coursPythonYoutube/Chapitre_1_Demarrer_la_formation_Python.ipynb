{
 "cells": [
  {
   "cell_type": "markdown",
   "id": "fb22bc11",
   "metadata": {},
   "source": [
    "#  Démarrer la formation\n",
    "Bienvenue dans ce cours d'initiation à Python."
   ]
  },
  {
   "cell_type": "markdown",
   "id": "4c3f6dfe",
   "metadata": {},
   "source": [
    "##  Objectifs pédagogiques\n",
    "- Comprendre ce qu'est Python et ses cas d'usage\n",
    "- Installer un environnement Python avec Anaconda\n",
    "- Lancer et tester ses premiers scripts dans Jupyter Notebook"
   ]
  },
  {
   "cell_type": "markdown",
   "id": "bfe1a59a",
   "metadata": {},
   "source": [
    "##  Pourquoi apprendre Python ?\n",
    "Python est un langage polyvalent, lisible, utilisé dans :\n",
    "- la **data science** (NumPy, Pandas, scikit-learn)\n",
    "- le **web** (Django, Flask)\n",
    "- l’**IA** (TensorFlow, PyTorch)\n",
    "- l’**automatisation** (scripts, bots)\n",
    "- les **jeux**, l’**IoT**, la **cybersécurité** et plus encore."
   ]
  },
  {
   "cell_type": "markdown",
   "id": "7f1348e0",
   "metadata": {},
   "source": [
    "##  Installation de Python avec Anaconda\n",
    "1. Rendez-vous sur [anaconda.com](https://www.anaconda.com/products/distribution)\n",
    "2. Téléchargez la version pour votre système (Windows, macOS, Linux)\n",
    "3. Installez en suivant les instructions par défaut\n",
    "\n",
    "Une fois installé :\n",
    "- Lancez **Anaconda Navigator** ou ouvrez un terminal et tapez `jupyter notebook`\n"
   ]
  },
  {
   "cell_type": "markdown",
   "id": "f32f89ce",
   "metadata": {},
   "source": [
    "##  Premiers pas avec Jupyter Notebook\n",
    "Dans une cellule de type Code, tapez ceci puis exécutez-la avec **Shift + Entrée** :"
   ]
  },
  {
   "cell_type": "code",
   "execution_count": null,
   "id": "e214bcea",
   "metadata": {},
   "outputs": [],
   "source": [
    "print(\"Bienvenue dans Python !\")"
   ]
  },
  {
   "cell_type": "markdown",
   "id": "1d1daef5",
   "metadata": {},
   "source": [
    "##  Exercice : écrire un message personnalisé\n",
    "Demandez à l’utilisateur son prénom, puis affichez un message personnalisé."
   ]
  },
  {
   "cell_type": "code",
   "execution_count": null,
   "id": "4e072407",
   "metadata": {},
   "outputs": [],
   "source": [
    "prenom = input(\"Quel est ton prénom ? \")\n",
    "print(f\"Heureux de te rencontrer, {prenom} !\")"
   ]
  },
  {
   "cell_type": "markdown",
   "id": "29f2a146",
   "metadata": {},
   "source": [
    "##  Quiz : Python & installation\n",
    "**1. Quel outil permet de lancer Jupyter Notebook ?**\n",
    "- a) Chrome\n",
    "- b) Anaconda \n",
    "- c) VSCode\n",
    "- d) Git\n",
    "\n",
    "**2. Que fait la commande `print(\"Hello\")` ?**\n",
    "- a) Elle stocke une variable\n",
    "- b) Elle affiche un message \n",
    "- c) Elle importe un module\n",
    "- d) Elle crée un fichier\n",
    "\n",
    "**3. Quelle extension ont les fichiers Jupyter ?**\n",
    "- a) `.py`\n",
    "- b) `.txt`\n",
    "- c) `.ipynb` \n",
    "- d) `.csv`\n",
    "\n",
    "**4. Quel est l'avantage principal de Python ?**\n",
    "- a) C'est un langage peu utilisé\n",
    "- b) Il est complexe mais rapide\n",
    "- c) Il est facile à lire \n",
    "- d) Il remplace Excel\n",
    "\n",
    "**5. Que signifie `input()` ?**\n",
    "- a) Lancer un programme\n",
    "- b) Afficher une variable\n",
    "- c) Demander une saisie utilisateur \n",
    "- d) Lire un fichier"
   ]
  }
 ],
 "metadata": {
  "language_info": {
   "name": "python"
  }
 },
 "nbformat": 4,
 "nbformat_minor": 5
}
