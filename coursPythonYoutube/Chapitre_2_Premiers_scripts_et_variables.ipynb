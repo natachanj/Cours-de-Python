{
 "cells": [
  {
   "cell_type": "markdown",
   "id": "92e9f569",
   "metadata": {},
   "source": [
    "# Chapitre 2 – Premiers scripts et variables"
   ]
  },
  {
   "cell_type": "markdown",
   "id": "2b6ceda8",
   "metadata": {},
   "source": [
    "Dans ce chapitre, vous allez apprendre les bases de la programmation avec Python :\n",
    "- les types de données fondamentaux\n",
    "- la création et conversion de variables\n",
    "- les opérations arithmétiques simples\n",
    "- la manipulation de texte (concaténation et f-strings)\n",
    "- un exercice pratique : mini-calculatrice\n",
    "- un quiz de validation des acquis"
   ]
  },
  {
   "cell_type": "markdown",
   "id": "a09d78fa",
   "metadata": {},
   "source": [
    "## Comprendre les types de données de base"
   ]
  },
  {
   "cell_type": "markdown",
   "id": "43f5c9f8",
   "metadata": {},
   "source": [
    "Python propose plusieurs types standards :\n",
    "- `int` : nombres entiers (ex. `10`)\n",
    "- `float` : nombres décimaux (ex. `3.14`)\n",
    "- `str` : chaînes de caractères (ex. `'bonjour'`)\n",
    "- `bool` : booléens (`True`, `False`)"
   ]
  },
  {
   "cell_type": "code",
   "execution_count": null,
   "id": "bb61bf30",
   "metadata": {},
   "outputs": [],
   "source": [
    "a = 10\n",
    "b = 3.5\n",
    "c = 'Bonjour'\n",
    "d = True\n",
    "print(type(a), type(b), type(c), type(d))"
   ]
  },
  {
   "cell_type": "markdown",
   "id": "f59131ef",
   "metadata": {},
   "source": [
    "## Créer et convertir des variables"
   ]
  },
  {
   "cell_type": "code",
   "execution_count": null,
   "id": "9561a401",
   "metadata": {},
   "outputs": [],
   "source": [
    "x = 7.9\n",
    "print(x)\n",
    "\n",
    "# Conversion float -> int\n",
    "y = int(x)\n",
    "print(y)\n",
    "\n",
    "# Conversion int -> string\n",
    "z = str(y)\n",
    "print(z, type(z))"
   ]
  },
  {
   "cell_type": "markdown",
   "id": "5049d035",
   "metadata": {},
   "source": [
    "## Effectuer des opérations arithmétiques simples"
   ]
  },
  {
   "cell_type": "code",
   "execution_count": null,
   "id": "99cc5e49",
   "metadata": {},
   "outputs": [],
   "source": [
    "a = 15\n",
    "b = 4\n",
    "print(\"Addition:\", a + b)\n",
    "print(\"Soustraction:\", a - b)\n",
    "print(\"Multiplication:\", a * b)\n",
    "print(\"Division:\", a / b)\n",
    "print(\"Puissance:\", a ** b)\n",
    "print(\"Modulo:\", a % b)"
   ]
  },
  {
   "cell_type": "markdown",
   "id": "683e417f",
   "metadata": {},
   "source": [
    "## Formater et concaténer des chaînes de caractères"
   ]
  },
  {
   "cell_type": "markdown",
   "id": "bf3ad448",
   "metadata": {},
   "source": [
    "### Méthode 1 : Concaténation avec `+`"
   ]
  },
  {
   "cell_type": "code",
   "execution_count": null,
   "id": "877b2587",
   "metadata": {},
   "outputs": [],
   "source": [
    "prenom = \"Alice\"\n",
    "age = 28\n",
    "message = \"Bonjour, je m'appelle \" + prenom + \" et j'ai \" + str(age) + \" ans.\"\n",
    "print(message)"
   ]
  },
  {
   "cell_type": "markdown",
   "id": "d9bd5dba",
   "metadata": {},
   "source": [
    "### Méthode 2 : Utiliser les f-strings (recommandé)"
   ]
  },
  {
   "cell_type": "code",
   "execution_count": null,
   "id": "d315ddb5",
   "metadata": {},
   "outputs": [],
   "source": [
    "prenom = \"Alice\"\n",
    "age = 28\n",
    "print(f\"Bonjour, je m'appelle {prenom} et j'ai {age} ans.\")"
   ]
  },
  {
   "cell_type": "markdown",
   "id": "ea117b52",
   "metadata": {},
   "source": [
    "### Formater les nombres avec les f-strings"
   ]
  },
  {
   "cell_type": "code",
   "execution_count": null,
   "id": "f4ab4d7f",
   "metadata": {},
   "outputs": [],
   "source": [
    "prix = 12.3456\n",
    "print(f\"Prix : {prix:.2f} euros\")  # 2 chiffres après la virgule\n",
    "print(f\"Prix arrondi : {round(prix)} euros\")"
   ]
  },
  {
   "cell_type": "markdown",
   "id": "431fb431",
   "metadata": {},
   "source": [
    "## Exercice : Créer une mini-calculatrice simple"
   ]
  },
  {
   "cell_type": "code",
   "execution_count": null,
   "id": "3edb155f",
   "metadata": {},
   "outputs": [],
   "source": [
    "nb1 = float(input(\"Entrez un premier nombre : \"))\n",
    "nb2 = float(input(\"Entrez un deuxième nombre : \"))\n",
    "\n",
    "somme = nb1 + nb2\n",
    "produit = nb1 * nb2\n",
    "division = nb1 / nb2\n",
    "\n",
    "print(f\"La somme est : {somme:.2f}\")\n",
    "print(f\"Le produit est : {produit:.2f}\")\n",
    "print(f\"La division est : {division:.2f}\")"
   ]
  },
  {
   "cell_type": "markdown",
   "id": "54a385ac",
   "metadata": {},
   "source": [
    "## Quiz : Vérifier les acquis sur les variables"
   ]
  },
  {
   "cell_type": "markdown",
   "id": "ec0874d3",
   "metadata": {},
   "source": [
    "**1. Quel type correspond à `True` ?**\n",
    "- a) int\n",
    "- b) str\n",
    "- c) bool \n",
    "- d) float\n",
    "\n",
    "**2. Quel opérateur donne le reste d’une division ?**\n",
    "- a) `//`\n",
    "- b) `/`\n",
    "- c) `%` \n",
    "- d) `**`\n",
    "\n",
    "**3. Quelle fonction permet de convertir un texte en entier ?**\n",
    "- a) `float()`\n",
    "- b) `int()` \n",
    "- c) `str()`\n",
    "- d) `bool()`\n",
    "\n",
    "**4. Quelle syntaxe est correcte avec un f-string ?**\n",
    "- a) `'Bonjour ' + {nom}`\n",
    "- b) `\"Bonjour {nom}\"`\n",
    "- c) `f\"Bonjour {nom}\"` \n",
    "- d) `\"Bonjour\" + nom {}`"
   ]
  },
  {
   "cell_type": "markdown",
   "id": "be849a84",
   "metadata": {},
   "source": [
    "## Pour aller plus loin\n",
    "Retrouvez la version vidéo de ce chapitre sur la chaîne YouTube Le Coin Stat :\n",
    "https://www.youtube.com/@LeCoinStat"
   ]
  }
 ],
 "metadata": {
  "language_info": {
   "name": "python"
  }
 },
 "nbformat": 4,
 "nbformat_minor": 5
}
