{
 "cells": [
  {
   "cell_type": "markdown",
   "id": "dafbc77b",
   "metadata": {},
   "source": [
    "# Chapitre 3 – Contrôler le flux d'exécution avec des conditions et des boucles"
   ]
  },
  {
   "cell_type": "markdown",
   "id": "a99fd826",
   "metadata": {},
   "source": [
    "Dans ce chapitre, vous apprendrez à contrôler le déroulement de votre programme :\n",
    "- Écrire des conditions simples et multiples\n",
    "- Répéter des actions avec des boucles\n",
    "- Utiliser des mots-clés pour contrôler l’exécution\n",
    "- Réaliser un exercice guidé (jeu de devinette)\n",
    "- Tester vos connaissances avec un quiz"
   ]
  },
  {
   "cell_type": "markdown",
   "id": "783e2940",
   "metadata": {},
   "source": [
    "## Partie 1 – Comprendre les conditions"
   ]
  },
  {
   "cell_type": "markdown",
   "id": "7323b193",
   "metadata": {},
   "source": [
    "### Instruction `if`\n",
    "Permet d’exécuter une instruction si une condition est vraie."
   ]
  },
  {
   "cell_type": "code",
   "execution_count": null,
   "id": "1a89957b",
   "metadata": {},
   "outputs": [],
   "source": [
    "age = 17\n",
    "if age < 18:\n",
    "    print(\"Vous êtes mineur.\")"
   ]
  },
  {
   "cell_type": "markdown",
   "id": "6ce332ff",
   "metadata": {},
   "source": [
    "### Instruction `else`\n",
    "Permet de définir une alternative lorsque la condition est fausse."
   ]
  },
  {
   "cell_type": "code",
   "execution_count": null,
   "id": "239347b4",
   "metadata": {},
   "outputs": [],
   "source": [
    "age = 20\n",
    "if age < 18:\n",
    "    print(\"Vous êtes mineur.\")\n",
    "else:\n",
    "    print(\"Vous êtes majeur.\")"
   ]
  },
  {
   "cell_type": "markdown",
   "id": "55a11ec9",
   "metadata": {},
   "source": [
    "### Instruction `elif`\n",
    "Permet d’ajouter des cas intermédiaires."
   ]
  },
  {
   "cell_type": "code",
   "execution_count": null,
   "id": "16e5bdf3",
   "metadata": {},
   "outputs": [],
   "source": [
    "age = 18\n",
    "if age < 18:\n",
    "    print(\"Mineur\")\n",
    "elif age == 18:\n",
    "    print(\"Tout juste majeur\")\n",
    "else:\n",
    "    print(\"Majeur\")"
   ]
  },
  {
   "cell_type": "markdown",
   "id": "bdd85799",
   "metadata": {},
   "source": [
    "## Partie 2 – Répéter des actions avec des boucles"
   ]
  },
  {
   "cell_type": "markdown",
   "id": "f7adad28",
   "metadata": {},
   "source": [
    "### Boucle `for`\n",
    "Utile pour répéter une action un nombre précis de fois."
   ]
  },
  {
   "cell_type": "code",
   "execution_count": null,
   "id": "8776a55d",
   "metadata": {},
   "outputs": [],
   "source": [
    "for i in range(5):\n",
    "    print(\"Itération n°\", i)"
   ]
  },
  {
   "cell_type": "markdown",
   "id": "25c9d9c4",
   "metadata": {},
   "source": [
    "### Boucle `while`\n",
    "Utile quand on ne connaît pas à l’avance le nombre d’itérations."
   ]
  },
  {
   "cell_type": "code",
   "execution_count": null,
   "id": "2f5f5170",
   "metadata": {},
   "outputs": [],
   "source": [
    "compteur = 0\n",
    "while compteur < 3:\n",
    "    print(\"Compteur:\", compteur)\n",
    "    compteur += 1"
   ]
  },
  {
   "cell_type": "markdown",
   "id": "33905588",
   "metadata": {},
   "source": [
    "## Partie 3 – Contrôler les boucles avec `break`, `continue`, `range()`"
   ]
  },
  {
   "cell_type": "markdown",
   "id": "89ef0a10",
   "metadata": {},
   "source": [
    "### Utiliser `break`\n",
    "Permet de sortir immédiatement d'une boucle."
   ]
  },
  {
   "cell_type": "code",
   "execution_count": null,
   "id": "a17cff69",
   "metadata": {},
   "outputs": [],
   "source": [
    "for i in range(10):\n",
    "    if i == 3:\n",
    "        break\n",
    "    print(i)"
   ]
  },
  {
   "cell_type": "markdown",
   "id": "09e59c92",
   "metadata": {},
   "source": [
    "### Utiliser `continue`\n",
    "Permet de passer à l’itération suivante sans exécuter la suite."
   ]
  },
  {
   "cell_type": "code",
   "execution_count": null,
   "id": "b8bff176",
   "metadata": {},
   "outputs": [],
   "source": [
    "for i in range(5):\n",
    "    if i == 2:\n",
    "        continue\n",
    "    print(i)"
   ]
  },
  {
   "cell_type": "markdown",
   "id": "1eb158c7",
   "metadata": {},
   "source": [
    "## Exercice : Concevoir un jeu de devinette"
   ]
  },
  {
   "cell_type": "markdown",
   "id": "919e38f0",
   "metadata": {},
   "source": [
    "L’utilisateur doit deviner un nombre aléatoire entre 1 et 10. Il a 3 essais maximum."
   ]
  },
  {
   "cell_type": "code",
   "execution_count": null,
   "id": "e46edefe",
   "metadata": {},
   "outputs": [],
   "source": [
    "import random\n",
    "nombre_secret = random.randint(1, 10)\n",
    "tentatives = 3\n",
    "\n",
    "print(\"Devinez le nombre entre 1 et 10. Vous avez 3 tentatives.\")\n",
    "\n",
    "for essai in range(tentatives):\n",
    "    guess = int(input(\"Votre proposition : \"))\n",
    "    if guess == nombre_secret:\n",
    "        print(\"Bravo, vous avez deviné !\")\n",
    "        break\n",
    "    else:\n",
    "        print(\"Raté. Il reste\", tentatives - essai - 1, \"essai(s).\")\n",
    "\n",
    "if guess != nombre_secret:\n",
    "    print(\"Perdu. Le nombre était :\", nombre_secret)"
   ]
  },
  {
   "cell_type": "markdown",
   "id": "8ff9e62d",
   "metadata": {},
   "source": [
    "## Quiz : Tester vos connaissances sur le contrôle du flux"
   ]
  },
  {
   "cell_type": "markdown",
   "id": "50f0ef4d",
   "metadata": {},
   "source": [
    "**1. Quelle instruction permet de vérifier une condition ?**\n",
    "- a) `print`\n",
    "- b) `if` \n",
    "- c) `range`\n",
    "- d) `else`\n",
    "\n",
    "**2. Quelle instruction permet d’ajouter une alternative ?**\n",
    "- a) `if`\n",
    "- b) `elif`\n",
    "- c) `else` \n",
    "- d) `try`\n",
    "\n",
    "**3. Quel mot-clé permet d’arrêter une boucle ?**\n",
    "- a) `continue`\n",
    "- b) `pass`\n",
    "- c) `break` \n",
    "- d) `stop`\n",
    "\n",
    "**4. Que produit `range(3)` ?**\n",
    "- a) [1, 2, 3]\n",
    "- b) [0, 1, 2] \n",
    "- c) [0, 1, 2, 3]\n",
    "- d) Une boucle infinie"
   ]
  },
  {
   "cell_type": "markdown",
   "id": "fff5ad1c",
   "metadata": {},
   "source": [
    "## Pour aller plus loin\n",
    "Retrouvez la version vidéo de ce chapitre sur la chaîne YouTube Le Coin Stat :\n",
    "https://www.youtube.com/@LeCoinStat"
   ]
  }
 ],
 "metadata": {
  "language_info": {
   "name": "python"
  }
 },
 "nbformat": 4,
 "nbformat_minor": 5
}
