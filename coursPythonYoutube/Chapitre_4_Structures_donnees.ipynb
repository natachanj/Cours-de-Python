{
 "cells": [
  {
   "cell_type": "markdown",
   "id": "42ed43ec",
   "metadata": {},
   "source": [
    "# Chapitre 4 – Structures de données en Python\n",
    "\n",
    "Ce chapitre présente **toutes** les fonctionnalités essentielles pour manipuler les principales structures de données en Python, avec :\n",
    "- des **opérations CRUD** (Create, Read, Update, Delete)\n",
    "- les **méthodes fondamentales** : `append`, `pop`, `remove`, `clear`, `update`, `get`, etc.\n",
    "- des **compréhensions de listes et de dictionnaires**, utiles pour créer des structures à partir de filtres ou de transformations\n",
    "- un accès aux **clés, valeurs et items** pour bien exploiter les dictionnaires\n",
    "- des **exercices pratiques** avec correction (ex. : inverser un dictionnaire)\n",
    "- un **quiz final** pour tester vos acquis\n",
    "- un lien vers la **vidéo YouTube correspondante** (chaîne Le Coin Stat)\n",
    "\n",
    "Prenez le temps de bien lire chaque section. Chaque bloc de code peut être exécuté indépendamment pour tester votre compréhension.\n"
   ]
  },
  {
   "cell_type": "markdown",
   "id": "42bc58c4",
   "metadata": {},
   "source": [
    "## 1. Les listes"
   ]
  },
  {
   "cell_type": "markdown",
   "id": "7d348997",
   "metadata": {},
   "source": [
    "Une **liste** est un conteneur ordonné et modifiable.  \n",
    "Elle peut contenir des types variés et même d'autres listes.\n",
    "\n",
    "### Création (Create)"
   ]
  },
  {
   "cell_type": "code",
   "execution_count": null,
   "id": "fc560fea",
   "metadata": {},
   "outputs": [],
   "source": [
    "fruits = ['pomme', 'banane', 'orange']\n",
    "print(fruits)"
   ]
  },
  {
   "cell_type": "markdown",
   "id": "e829f365",
   "metadata": {},
   "source": [
    "### Lecture (Read)\n",
    "On accède aux éléments avec leur index (le premier est à 0)."
   ]
  },
  {
   "cell_type": "code",
   "execution_count": null,
   "id": "be34f1ee",
   "metadata": {},
   "outputs": [],
   "source": [
    "print(fruits[0])\n",
    "print(fruits[-1])\n",
    "print(fruits[1:3])"
   ]
  },
  {
   "cell_type": "markdown",
   "id": "c04c719d",
   "metadata": {},
   "source": [
    "### Modification (Update)"
   ]
  },
  {
   "cell_type": "code",
   "execution_count": null,
   "id": "61a9bb00",
   "metadata": {},
   "outputs": [],
   "source": [
    "fruits[0] = 'kiwi'                     # modification\n",
    "fruits.append('ananas')               # ajout en fin\n",
    "fruits.insert(1, 'mangue')            # ajout à un index précis\n",
    "print(fruits)"
   ]
  },
  {
   "cell_type": "markdown",
   "id": "1ece3e5d",
   "metadata": {},
   "source": [
    "### Suppression (Delete)"
   ]
  },
  {
   "cell_type": "code",
   "execution_count": null,
   "id": "d600be0b",
   "metadata": {},
   "outputs": [],
   "source": [
    "fruits.remove('mangue')               # par valeur (1ère occurrence)\n",
    "supprime = fruits.pop()               # dernier élément\n",
    "del fruits[0]                         # par index\n",
    "fruits.clear()                        # tout vider\n",
    "print(fruits)"
   ]
  },
  {
   "cell_type": "markdown",
   "id": "16471012",
   "metadata": {},
   "source": [
    "### Fonctions utiles avec les listes"
   ]
  },
  {
   "cell_type": "code",
   "execution_count": null,
   "id": "f00f32cb",
   "metadata": {},
   "outputs": [],
   "source": [
    "notes = [15, 12, 17, 10]\n",
    "notes.sort()     # tri en place\n",
    "print(notes)\n",
    "print(len(notes))  # longueur de la liste"
   ]
  },
  {
   "cell_type": "markdown",
   "id": "4faa054e",
   "metadata": {},
   "source": [
    "### Compréhension de liste\n",
    "Une manière rapide de générer une liste à partir d’une autre."
   ]
  },
  {
   "cell_type": "code",
   "execution_count": null,
   "id": "9393712f",
   "metadata": {},
   "outputs": [],
   "source": [
    "nombres = [1, 2, 3, 4, 5]\n",
    "carres = [x**2 for x in nombres]               # carré de chaque élément\n",
    "pairs = [x for x in nombres if x % 2 == 0]  # sélection des pairs\n",
    "print(carres)\n",
    "print(pairs)"
   ]
  },
  {
   "cell_type": "markdown",
   "id": "7b9eff65",
   "metadata": {},
   "source": [
    "## 2. Les dictionnaires"
   ]
  },
  {
   "cell_type": "markdown",
   "id": "199edee9",
   "metadata": {},
   "source": [
    "Un **dictionnaire** stocke des données associées sous forme de **paires clé → valeur**.  \n",
    "Il est très utilisé pour représenter des objets structurés (utilisateur, produit, etc.)."
   ]
  },
  {
   "cell_type": "markdown",
   "id": "080663f4",
   "metadata": {},
   "source": [
    "### Création (Create)"
   ]
  },
  {
   "cell_type": "code",
   "execution_count": null,
   "id": "a7f6b1ad",
   "metadata": {},
   "outputs": [],
   "source": [
    "personne = {'nom': 'Alice', 'age': 30}\n",
    "print(personne)"
   ]
  },
  {
   "cell_type": "markdown",
   "id": "a6102ca1",
   "metadata": {},
   "source": [
    "### Lecture (Read)"
   ]
  },
  {
   "cell_type": "code",
   "execution_count": null,
   "id": "c8da9e9a",
   "metadata": {},
   "outputs": [],
   "source": [
    "print(personne['nom'])\n",
    "print(personne.get('age'))  # méthode plus sûre"
   ]
  },
  {
   "cell_type": "markdown",
   "id": "ec02cabf",
   "metadata": {},
   "source": [
    "### Modification (Update)"
   ]
  },
  {
   "cell_type": "code",
   "execution_count": null,
   "id": "f33419d7",
   "metadata": {},
   "outputs": [],
   "source": [
    "personne['age'] = 31\n",
    "personne['ville'] = 'Paris'\n",
    "print(personne)"
   ]
  },
  {
   "cell_type": "markdown",
   "id": "6f5c8286",
   "metadata": {},
   "source": [
    "### Suppression (Delete)"
   ]
  },
  {
   "cell_type": "code",
   "execution_count": null,
   "id": "406d008f",
   "metadata": {},
   "outputs": [],
   "source": [
    "del personne['nom']                          # par clé\n",
    "valeur = personne.pop('ville')              # méthode avec retour\n",
    "print(\"Supprimé:\", valeur)\n",
    "personne.clear()                             # vide tout le dictionnaire\n",
    "print(personne)"
   ]
  },
  {
   "cell_type": "markdown",
   "id": "410aea71",
   "metadata": {},
   "source": [
    "### Compréhension de dictionnaire"
   ]
  },
  {
   "cell_type": "code",
   "execution_count": null,
   "id": "61884819",
   "metadata": {},
   "outputs": [],
   "source": [
    "nombres = [1, 2, 3, 4]\n",
    "dico = {x: x**2 for x in nombres}                     # carrés\n",
    "dico_pairs = {x: x for x in nombres if x % 2 == 0}  # pairs seulement\n",
    "print(dico)\n",
    "print(dico_pairs)"
   ]
  },
  {
   "cell_type": "markdown",
   "id": "6b00127b",
   "metadata": {},
   "source": [
    "## 3. Les tuples"
   ]
  },
  {
   "cell_type": "markdown",
   "id": "93945277",
   "metadata": {},
   "source": [
    "Un **tuple** est une séquence **ordonnée mais immuable**.\n",
    "\n",
    "\n",
    "Cela signifie que vous ne pouvez pas modifier ses éléments une fois définis."
   ]
  },
  {
   "cell_type": "code",
   "execution_count": null,
   "id": "111c8981",
   "metadata": {},
   "outputs": [],
   "source": [
    "coord = (10, 20)\n",
    "print(coord[0])\n",
    "print(len(coord))"
   ]
  },
  {
   "cell_type": "markdown",
   "id": "dd4dcaf4",
   "metadata": {},
   "source": [
    "### Modifier un tuple : on le transforme en liste, puis on le retransforme"
   ]
  },
  {
   "cell_type": "code",
   "execution_count": null,
   "id": "c71f1961",
   "metadata": {},
   "outputs": [],
   "source": [
    "coord = list(coord)\n",
    "coord.append(30)\n",
    "coord = tuple(coord)\n",
    "print(coord)"
   ]
  },
  {
   "cell_type": "markdown",
   "id": "9b1668e1",
   "metadata": {},
   "source": [
    "## 4. Les ensembles (sets)"
   ]
  },
  {
   "cell_type": "markdown",
   "id": "77250d5b",
   "metadata": {},
   "source": [
    "Un **set** est une collection non ordonnée **sans doublons**.\n",
    "\n",
    "\n",
    "Très utile pour vérifier l’unicité ou effectuer des opérations ensemblistes (intersection, union, etc.)."
   ]
  },
  {
   "cell_type": "code",
   "execution_count": null,
   "id": "303dfbbb",
   "metadata": {},
   "outputs": [],
   "source": [
    "animaux = {'chat', 'chien', 'oiseau', 'chat'}\n",
    "print(animaux)"
   ]
  },
  {
   "cell_type": "markdown",
   "id": "f89e4242",
   "metadata": {},
   "source": [
    "### Parcourir un set"
   ]
  },
  {
   "cell_type": "code",
   "execution_count": null,
   "id": "66a7b9c9",
   "metadata": {},
   "outputs": [],
   "source": [
    "for animal in animaux:\n",
    "    print(animal)"
   ]
  },
  {
   "cell_type": "markdown",
   "id": "82a8a2be",
   "metadata": {},
   "source": [
    "### Ajouter et mettre à jour un set"
   ]
  },
  {
   "cell_type": "code",
   "execution_count": null,
   "id": "30a9c5cb",
   "metadata": {},
   "outputs": [],
   "source": [
    "animaux.add('lapin')\n",
    "animaux.update(['cheval', 'tigre'])\n",
    "print(animaux)"
   ]
  },
  {
   "cell_type": "markdown",
   "id": "db726faa",
   "metadata": {},
   "source": [
    "### Supprimer des éléments"
   ]
  },
  {
   "cell_type": "code",
   "execution_count": null,
   "id": "9acb5bc2",
   "metadata": {},
   "outputs": [],
   "source": [
    "animaux.discard('chien')       # sans erreur\n",
    "animaux.remove('chat')         # erreur si absent\n",
    "animaux.pop()                  # élément aléatoire\n",
    "animaux.clear()                # vider complètement\n",
    "print(animaux)"
   ]
  },
  {
   "cell_type": "markdown",
   "id": "6f365079",
   "metadata": {},
   "source": [
    "## Quiz de révision"
   ]
  },
  {
   "cell_type": "markdown",
   "id": "47abe623",
   "metadata": {},
   "source": [
    "**1. Quelle structure est immuable ?**  \n",
    "- a) liste  \n",
    "- b) dictionnaire  \n",
    "- c) tuple \n",
    "- d) set\n",
    "\n",
    "**2. Quelle méthode vide complètement une liste ?**  \n",
    "- a) `pop()`  \n",
    "- b) `remove()`  \n",
    "- c) `clear()` \n",
    "- d) `del()`\n",
    "\n",
    "**3. Que renvoie `[x**2 for x in range(3)]` ?**  \n",
    "- a) [1, 4, 9]  \n",
    "- b) [0, 1, 4] \n",
    "- c) [2, 4, 6]  \n",
    "- d) [1, 2, 3]\n"
   ]
  },
  {
   "cell_type": "markdown",
   "id": "e6af0a4d",
   "metadata": {},
   "source": [
    "## Pour aller plus loin\n",
    "Retrouvez la version vidéo de ce chapitre sur la chaîne YouTube Le Coin Stat :\n",
    "https://www.youtube.com/@LeCoinStat"
   ]
  },
  {
   "cell_type": "markdown",
   "id": "a2747a8b",
   "metadata": {},
   "source": [
    "### Accéder aux clés, valeurs et paires clé-valeur"
   ]
  },
  {
   "cell_type": "markdown",
   "id": "520f137d",
   "metadata": {},
   "source": [
    "Un dictionnaire permet aussi de récupérer toutes ses clés, ses valeurs ou ses paires via :\n",
    "- `.keys()` → toutes les clés\n",
    "- `.values()` → toutes les valeurs\n",
    "- `.items()` → les paires clé-valeur (sous forme de tuples)"
   ]
  },
  {
   "cell_type": "code",
   "execution_count": null,
   "id": "48745a48",
   "metadata": {},
   "outputs": [],
   "source": [
    "personne = {'nom': 'Alice', 'age': 30, 'ville': 'Paris'}\n",
    "print(personne.keys())\n",
    "print(personne.values())\n",
    "print(personne.items())"
   ]
  },
  {
   "cell_type": "markdown",
   "id": "044e109f",
   "metadata": {},
   "source": [
    "### Exercice : Permuter les clés et les valeurs"
   ]
  },
  {
   "cell_type": "markdown",
   "id": "dce283c6",
   "metadata": {},
   "source": [
    "À partir d'un dictionnaire, créez un nouveau dictionnaire dans lequel les **clés deviennent les valeurs** et les **valeurs deviennent les clés**.\n",
    "\n",
    "⚠️ Ce type d’opération suppose que les valeurs d’origine sont **uniques** (et donc peuvent devenir des clés)."
   ]
  },
  {
   "cell_type": "code",
   "execution_count": null,
   "id": "b4e05a39",
   "metadata": {},
   "outputs": [],
   "source": [
    "# Exemple de départ\n",
    "dico = {'a': 1, 'b': 2, 'c': 3}\n",
    "\n",
    "# Résultat attendu : {1: 'a', 2: 'b', 3: 'c'}\n",
    "inverse = {valeur: cle for cle, valeur in dico.items()}\n",
    "print(inverse)"
   ]
  }
 ],
 "metadata": {
  "language_info": {
   "name": "python"
  }
 },
 "nbformat": 4,
 "nbformat_minor": 5
}
