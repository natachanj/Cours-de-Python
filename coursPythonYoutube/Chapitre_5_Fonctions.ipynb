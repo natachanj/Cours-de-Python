{
 "cells": [
  {
   "cell_type": "markdown",
   "id": "efae6345",
   "metadata": {},
   "source": [
    "# Chapitre 5 – Organiser son code avec des fonctions "
   ]
  },
  {
   "cell_type": "markdown",
   "id": "4b7e32f2",
   "metadata": {},
   "source": [
    "Les **fonctions** permettent d'organiser, de structurer et de réutiliser du code efficacement.  \n",
    "Elles évitent les répétitions et facilitent la lisibilité d’un programme.\n",
    "\n",
    "Dans ce chapitre, vous apprendrez à :\n",
    "- Définir et utiliser des fonctions personnalisées avec `def`\n",
    "- Transmettre et récupérer des informations grâce aux **paramètres** et à `return`\n",
    "- Comprendre la **portée des variables** (locale vs globale)\n",
    "- Utiliser des **fonctions natives** comme `len()`, `range()`, `type()`\n",
    "- Réaliser un **exercice guidé** (convertisseur de température)\n",
    "- Valider vos connaissances avec un **quiz**\n"
   ]
  },
  {
   "cell_type": "markdown",
   "id": "1847104d",
   "metadata": {},
   "source": [
    "## Définir et appeler une fonction"
   ]
  },
  {
   "cell_type": "markdown",
   "id": "66b51712",
   "metadata": {},
   "source": [
    "Une fonction est un bloc de code que l’on encapsule sous un nom avec `def`.  \n",
    "Elle peut prendre des **paramètres** et retourner une **valeur** grâce à `return`."
   ]
  },
  {
   "cell_type": "code",
   "execution_count": null,
   "id": "eb72d3b2",
   "metadata": {},
   "outputs": [],
   "source": [
    "def dire_bonjour(nom):\n",
    "    return f\"Bonjour {nom} !\"\n",
    "\n",
    "# Appel de la fonction\n",
    "print(dire_bonjour(\"Alice\"))"
   ]
  },
  {
   "cell_type": "markdown",
   "id": "0ec0d87e",
   "metadata": {},
   "source": [
    "### Paramètres par défaut"
   ]
  },
  {
   "cell_type": "code",
   "execution_count": null,
   "id": "e18a8b6b",
   "metadata": {},
   "outputs": [],
   "source": [
    "def saluer(nom=\"visiteur\"):\n",
    "    return f\"Bienvenue, {nom}\"\n",
    "\n",
    "print(saluer())\n",
    "print(saluer(\"Julie\"))"
   ]
  },
  {
   "cell_type": "markdown",
   "id": "1297cbb5",
   "metadata": {},
   "source": [
    "### Fonction avec plusieurs paramètres"
   ]
  },
  {
   "cell_type": "code",
   "execution_count": null,
   "id": "cfb04f40",
   "metadata": {},
   "outputs": [],
   "source": [
    "def addition(a, b):\n",
    "    return a + b\n",
    "\n",
    "resultat = addition(5, 7)\n",
    "print(\"Résultat :\", resultat)"
   ]
  },
  {
   "cell_type": "markdown",
   "id": "cb63f2d1",
   "metadata": {},
   "source": [
    "## Comprendre la portée des variables"
   ]
  },
  {
   "cell_type": "markdown",
   "id": "b6d4b5ae",
   "metadata": {},
   "source": [
    "Une **variable locale** n’existe que dans la fonction.  \n",
    "Une **variable globale** est définie en dehors de la fonction et accessible dans tout le programme.  \n",
    "L’usage excessif de variables globales est déconseillé."
   ]
  },
  {
   "cell_type": "code",
   "execution_count": null,
   "id": "2a70d6b7",
   "metadata": {},
   "outputs": [],
   "source": [
    "x = 10\n",
    "\n",
    "def exemple():\n",
    "    x = 5  # locale\n",
    "    print(\"Dans la fonction :\", x)\n",
    "\n",
    "exemple()\n",
    "print(\"En dehors :\", x)"
   ]
  },
  {
   "cell_type": "markdown",
   "id": "c6e05239",
   "metadata": {},
   "source": [
    "## Exercice : Créer un convertisseur de température"
   ]
  },
  {
   "cell_type": "markdown",
   "id": "a9263904",
   "metadata": {},
   "source": [
    "Définissez deux fonctions :  \n",
    "- `celsius_vers_fahrenheit(c)`  \n",
    "- `fahrenheit_vers_celsius(f)`  \n",
    "Ces fonctions devront utiliser `return` pour transmettre le résultat.\n"
   ]
  },
  {
   "cell_type": "code",
   "execution_count": null,
   "id": "88d802c9",
   "metadata": {},
   "outputs": [],
   "source": [
    "def celsius_vers_fahrenheit(c):\n",
    "    return (c * 9/5) + 32\n",
    "\n",
    "def fahrenheit_vers_celsius(f):\n",
    "    return (f - 32) * 5/9\n",
    "\n",
    "print(\"25°C →\", celsius_vers_fahrenheit(25), \"°F\")\n",
    "print(\"77°F →\", fahrenheit_vers_celsius(77), \"°C\")"
   ]
  },
  {
   "cell_type": "markdown",
   "id": "5c7eca32",
   "metadata": {},
   "source": [
    "## Fonctions natives utiles"
   ]
  },
  {
   "cell_type": "markdown",
   "id": "493b1793",
   "metadata": {},
   "source": [
    "Python propose des fonctions intégrées, très pratiques pour explorer ou manipuler des données :\n",
    "- `len()` : longueur d’une liste, d’un texte, etc.\n",
    "- `type()` : type d’une variable\n",
    "- `range()` : générateur de nombres\n"
   ]
  },
  {
   "cell_type": "code",
   "execution_count": null,
   "id": "b33b950c",
   "metadata": {},
   "outputs": [],
   "source": [
    "texte = \"bonjour\"\n",
    "print(\"Longueur :\", len(texte))\n",
    "print(\"Type :\", type(texte))\n",
    "\n",
    "for i in range(3):\n",
    "    print(i)"
   ]
  },
  {
   "cell_type": "markdown",
   "id": "66feca66",
   "metadata": {},
   "source": [
    "## Fonction sans `return` (effet de bord)"
   ]
  },
  {
   "cell_type": "code",
   "execution_count": null,
   "id": "ffd98698",
   "metadata": {},
   "outputs": [],
   "source": [
    "def salutation():\n",
    "    print(\"Bonjour tout le monde\")\n",
    "\n",
    "salutation()"
   ]
  },
  {
   "cell_type": "markdown",
   "id": "08762911",
   "metadata": {},
   "source": [
    "## Quiz – Évaluer sa maîtrise des fonctions"
   ]
  },
  {
   "cell_type": "markdown",
   "id": "4034946d",
   "metadata": {},
   "source": [
    "**1. Que fait le mot-clé `return` ?**  \n",
    "- a) Affiche une valeur  \n",
    "- b) Modifie une variable  \n",
    "- c) Renvoie une valeur \n",
    "- d) Arrête un programme\n",
    "\n",
    "**2. Où une variable locale est-elle accessible ?**  \n",
    "- a) Partout  \n",
    "- b) Uniquement dans la fonction  \n",
    "- c) Après l’appel de fonction  \n",
    "- d) Nulle part\n",
    "\n",
    "**3. Quelle fonction permet de savoir combien de lettres contient une chaîne ?**  \n",
    "- a) `type()`  \n",
    "- b) `length()`  \n",
    "- c) `count()`  \n",
    "- d) `len()` \n",
    "\n",
    "**4. Peut-on créer une fonction sans paramètre ?**  \n",
    "- a) Oui \n",
    "- b) Non\n"
   ]
  },
  {
   "cell_type": "markdown",
   "id": "4999f10e",
   "metadata": {},
   "source": [
    "## Pour aller plus loin\n",
    "Consultez la vidéo de ce chapitre sur la chaîne YouTube Le Coin Stat :\n",
    "https://www.youtube.com/@LeCoinStat"
   ]
  }
 ],
 "metadata": {
  "language_info": {
   "name": "python"
  }
 },
 "nbformat": 4,
 "nbformat_minor": 5
}
