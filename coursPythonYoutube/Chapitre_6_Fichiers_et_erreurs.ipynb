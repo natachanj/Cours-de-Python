{
 "cells": [
  {
   "cell_type": "markdown",
   "id": "89364f8a",
   "metadata": {},
   "source": [
    "# Chapitre 6 – Lire, écrire et sécuriser ses fichiers "
   ]
  },
  {
   "cell_type": "markdown",
   "id": "e35e17c5",
   "metadata": {},
   "source": [
    "Dans ce chapitre, vous apprendrez à :  \n",
    "- Ouvrir, lire et écrire dans des fichiers texte  \n",
    "- Éviter les erreurs lors de la lecture/écriture grâce à `try` / `except`  \n",
    "- Organiser vos fichiers en utilisant les bons chemins et encodages  \n",
    "- Réaliser un **exercice pratique** (enregistreur de notes)  \n",
    "- Valider vos acquis avec un **quiz**\n"
   ]
  },
  {
   "cell_type": "markdown",
   "id": "91f20a3a",
   "metadata": {},
   "source": [
    "## Lire et écrire dans des fichiers texte"
   ]
  },
  {
   "cell_type": "markdown",
   "id": "0ad4698a",
   "metadata": {},
   "source": [
    "En Python, on utilise `open()` pour manipuler les fichiers :  \n",
    "- `\"r\"` : lecture  \n",
    "- `\"w\"` : écriture (efface le contenu)  \n",
    "- `\"a\"` : ajout (append)  \n",
    "- `\"x\"` : création exclusive  \n",
    "Il est recommandé d’utiliser `with` pour que le fichier soit refermé automatiquement."
   ]
  },
  {
   "cell_type": "code",
   "execution_count": null,
   "id": "fd8be0c0",
   "metadata": {},
   "outputs": [],
   "source": [
    "# Écriture dans un fichier\n",
    "with open(\"exemple.txt\", \"w\") as f:\n",
    "    f.write(\"Bonjour\\nVoici un test.\")"
   ]
  },
  {
   "cell_type": "code",
   "execution_count": null,
   "id": "6d792a85",
   "metadata": {},
   "outputs": [],
   "source": [
    "# Lecture du fichier\n",
    "with open(\"exemple.txt\", \"r\") as f:\n",
    "    contenu = f.read()\n",
    "    print(contenu)"
   ]
  },
  {
   "cell_type": "markdown",
   "id": "e58a3229",
   "metadata": {},
   "source": [
    "## Gérer les erreurs avec `try` et `except`"
   ]
  },
  {
   "cell_type": "markdown",
   "id": "21d735ae",
   "metadata": {},
   "source": [
    "Pour éviter que le programme ne s'arrête brutalement si un fichier est manquant ou illisible, on utilise les blocs `try / except`."
   ]
  },
  {
   "cell_type": "code",
   "execution_count": null,
   "id": "25705be7",
   "metadata": {},
   "outputs": [],
   "source": [
    "try:\n",
    "    with open(\"inexistant.txt\", \"r\") as f:\n",
    "        data = f.read()\n",
    "except FileNotFoundError:\n",
    "    print(\"Le fichier est introuvable.\")"
   ]
  },
  {
   "cell_type": "markdown",
   "id": "29a81430",
   "metadata": {},
   "source": [
    "## Exercice : Créer un enregistreur de notes"
   ]
  },
  {
   "cell_type": "markdown",
   "id": "a8d64882",
   "metadata": {},
   "source": [
    "Objectif : permettre à l'utilisateur d'ajouter une note dans un fichier, puis de relire l'ensemble des notes enregistrées."
   ]
  },
  {
   "cell_type": "code",
   "execution_count": null,
   "id": "a4f7d4ae",
   "metadata": {},
   "outputs": [],
   "source": [
    "# Ajout d'une note\n",
    "note = input(\"Entrez une note : \")\n",
    "\n",
    "with open(\"notes.txt\", \"a\") as f:\n",
    "    f.write(note + \"\\n\")\n",
    "\n",
    "# Lecture de toutes les notes\n",
    "with open(\"notes.txt\", \"r\") as f:\n",
    "    print(\"Contenu du fichier :\")\n",
    "    print(f.read())"
   ]
  },
  {
   "cell_type": "markdown",
   "id": "6a31037d",
   "metadata": {},
   "source": [
    "## Organiser ses fichiers avec des chemins et encodages"
   ]
  },
  {
   "cell_type": "markdown",
   "id": "b37fc4f2",
   "metadata": {},
   "source": [
    "Vous pouvez spécifier un **chemin relatif** ou **absolu** :  \n",
    "- `\"./fichier.txt\"` : dans le dossier courant  \n",
    "- `\"C:/Utilisateurs/Nom/fichier.txt\"` : chemin absolu (Windows)\n",
    "\n",
    "Par défaut, Python utilise l'encodage UTF-8. Il est possible de le préciser :\n"
   ]
  },
  {
   "cell_type": "code",
   "execution_count": null,
   "id": "5944dffc",
   "metadata": {},
   "outputs": [],
   "source": [
    "with open(\"texte_utf8.txt\", \"w\", encoding=\"utf-8\") as f:\n",
    "    f.write(\"Ceci est un texte en UTF-8\")"
   ]
  },
  {
   "cell_type": "markdown",
   "id": "7cc25198",
   "metadata": {},
   "source": [
    "## Quiz – Tester ses connaissances sur les fichiers"
   ]
  },
  {
   "cell_type": "markdown",
   "id": "7fe1bae6",
   "metadata": {},
   "source": [
    "**1. Quel mode d’ouverture efface le contenu existant ?**  \n",
    "- a) `\"r\"`  \n",
    "- b) `\"a\"`  \n",
    "- c) `\"w\"` \n",
    "- d) `\"x\"`\n",
    "\n",
    "**2. Que fait `with open(...) as f:` ?**  \n",
    "- a) Il lit le fichier manuellement  \n",
    "- b) Il écrit ligne par ligne  \n",
    "- c) Il referme automatiquement le fichier   \n",
    "- d) Il efface le fichier\n",
    "\n",
    "**3. Quelle erreur intercepter pour un fichier inexistant ?**  \n",
    "- a) `SyntaxError`  \n",
    "- b) `KeyError`  \n",
    "- c) `FileNotFoundError`  \n",
    "- d) `ValueError`\n"
   ]
  },
  {
   "cell_type": "markdown",
   "id": "6f8c6959",
   "metadata": {},
   "source": []
  },
  {
   "cell_type": "markdown",
   "id": "063f0342",
   "metadata": {},
   "source": []
  },
  {
   "cell_type": "markdown",
   "id": "9a5ded29",
   "metadata": {},
   "source": [
    "## Pour aller plus loin\n",
    "Consultez la vidéo de ce chapitre sur la chaîne YouTube Le Coin Stat :\n",
    "https://www.youtube.com/@LeCoinStat"
   ]
  }
 ],
 "metadata": {
  "language_info": {
   "name": "python"
  }
 },
 "nbformat": 4,
 "nbformat_minor": 5
}
