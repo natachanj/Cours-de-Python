{
 "cells": [
  {
   "cell_type": "markdown",
   "id": "4470cddb",
   "metadata": {},
   "source": [
    "# Chapitre 7 – Mini-projet : créer une application de gestion de contacts"
   ]
  },
  {
   "cell_type": "markdown",
   "id": "978ab3ac",
   "metadata": {},
   "source": [
    "Dans ce mini-projet, vous allez combiner tout ce que vous avez appris pour créer une application simple en Python.  \n",
    "Objectif : gérer une liste de contacts (ajout, affichage, suppression), le tout stocké dans un fichier texte.\n",
    "\n",
    "L’utilisateur pourra :\n",
    "- Ajouter un contact\n",
    "- Afficher tous les contacts\n",
    "- Supprimer un contact\n",
    "- Naviguer via un **menu interactif**\n",
    "- Vérifier que les données saisies sont correctes\n"
   ]
  },
  {
   "cell_type": "markdown",
   "id": "977ab373",
   "metadata": {},
   "source": [
    "## Étape 1 – Ajouter un contact dans un fichier"
   ]
  },
  {
   "cell_type": "code",
   "execution_count": null,
   "id": "7f37cb73",
   "metadata": {},
   "outputs": [],
   "source": [
    "def ajouter_contact(nom, prenom, email):\n",
    "    with open(\"contacts.txt\", \"a\") as f:\n",
    "        f.write(f\"{nom};{prenom};{email}\\n\")"
   ]
  },
  {
   "cell_type": "markdown",
   "id": "0cb582a2",
   "metadata": {},
   "source": [
    "## Étape 2 – Afficher les contacts enregistrés"
   ]
  },
  {
   "cell_type": "code",
   "execution_count": null,
   "id": "dd3741f9",
   "metadata": {},
   "outputs": [],
   "source": [
    "def afficher_contacts():\n",
    "    try:\n",
    "        with open(\"contacts.txt\", \"r\") as f:\n",
    "            lignes = f.readlines()\n",
    "            for ligne in lignes:\n",
    "                nom, prenom, email = ligne.strip().split(\";\")\n",
    "                print(f\"Nom : {nom}, Prénom : {prenom}, Email : {email}\")\n",
    "    except FileNotFoundError:\n",
    "        print(\"Aucun contact enregistré.\")"
   ]
  },
  {
   "cell_type": "markdown",
   "id": "555ae410",
   "metadata": {},
   "source": [
    "## Étape 3 – Supprimer un contact existant"
   ]
  },
  {
   "cell_type": "code",
   "execution_count": null,
   "id": "97535779",
   "metadata": {},
   "outputs": [],
   "source": [
    "def supprimer_contact(email_a_supprimer):\n",
    "    try:\n",
    "        with open(\"contacts.txt\", \"r\") as f:\n",
    "            lignes = f.readlines()\n",
    "\n",
    "        with open(\"contacts.txt\", \"w\") as f:\n",
    "            for ligne in lignes:\n",
    "                if email_a_supprimer not in ligne:\n",
    "                    f.write(ligne)\n",
    "        print(\"Contact supprimé si trouvé.\")\n",
    "    except FileNotFoundError:\n",
    "        print(\"Fichier non trouvé.\")"
   ]
  },
  {
   "cell_type": "markdown",
   "id": "7c4b4381",
   "metadata": {},
   "source": [
    "## Étape 4 – Créer un menu interactif complet"
   ]
  },
  {
   "cell_type": "code",
   "execution_count": null,
   "id": "48b9e024",
   "metadata": {},
   "outputs": [],
   "source": [
    "def menu():\n",
    "    while True:\n",
    "        print(\"\\n1. Ajouter un contact\")\n",
    "        print(\"2. Afficher les contacts\")\n",
    "        print(\"3. Supprimer un contact\")\n",
    "        print(\"4. Quitter\")\n",
    "        choix = input(\"Votre choix : \")\n",
    "\n",
    "        if choix == \"1\":\n",
    "            nom = input(\"Nom : \")\n",
    "            prenom = input(\"Prénom : \")\n",
    "            email = input(\"Email : \")\n",
    "            if email_valide(email):\n",
    "                ajouter_contact(nom, prenom, email)\n",
    "            else:\n",
    "                print(\"Email invalide.\")\n",
    "        elif choix == \"2\":\n",
    "            afficher_contacts()\n",
    "        elif choix == \"3\":\n",
    "            email = input(\"Email du contact à supprimer : \")\n",
    "            supprimer_contact(email)\n",
    "        elif choix == \"4\":\n",
    "            print(\"Au revoir !\")\n",
    "            break\n",
    "        else:\n",
    "            print(\"Choix non reconnu.\")"
   ]
  },
  {
   "cell_type": "markdown",
   "id": "5372b195",
   "metadata": {},
   "source": [
    "## Étape 5 – Valider et nettoyer les données utilisateur"
   ]
  },
  {
   "cell_type": "code",
   "execution_count": null,
   "id": "42f3c03b",
   "metadata": {},
   "outputs": [],
   "source": [
    "import re\n",
    "\n",
    "def email_valide(email):\n",
    "    pattern = r\"^[\\w\\.-]+@[\\w\\.-]+\\.\\w+$\"\n",
    "    return re.match(pattern, email) is not None"
   ]
  },
  {
   "cell_type": "markdown",
   "id": "ecf91ae8",
   "metadata": {},
   "source": [
    "## Étape 6 – Vérifier les acquis du mini-projet"
   ]
  },
  {
   "cell_type": "markdown",
   "id": "1887d3a5",
   "metadata": {},
   "source": [
    "**1. Quel séparateur est utilisé pour stocker les contacts ?**  \n",
    "- a) `:`  \n",
    "- b) `,`  \n",
    "- c) `;`  \n",
    "- d) `\\t`\n",
    "\n",
    "**2. Pourquoi utilise-t-on `with open()` ?**  \n",
    "- a) Pour créer un fichier temporaire  \n",
    "- b) Pour garantir la fermeture automatique \n",
    "- c) Pour effacer les données  \n",
    "- d) Pour crypter les contacts\n",
    "\n",
    "**3. Que fait `re.match(...)` ?**  \n",
    "- a) Compare deux fichiers  \n",
    "- b) Teste si une chaîne respecte un format  \n",
    "- c) Trie les emails  \n",
    "- d) Convertit une chaîne\n"
   ]
  },
  {
   "cell_type": "markdown",
   "id": "17a3c9d4",
   "metadata": {},
   "source": [
    "## Pour aller plus loin\n",
    "Consultez la vidéo de ce mini-projet sur la chaîne YouTube Le Coin Stat :\n",
    "https://www.youtube.com/@LeCoinStat"
   ]
  }
 ],
 "metadata": {
  "language_info": {
   "name": "python"
  }
 },
 "nbformat": 4,
 "nbformat_minor": 5
}
